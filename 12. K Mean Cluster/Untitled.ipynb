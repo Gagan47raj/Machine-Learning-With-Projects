{
 "cells": [
  {
   "cell_type": "code",
   "execution_count": null,
   "id": "37d645d0",
   "metadata": {},
   "outputs": [],
   "source": [
    "# K Mean Clustering\n",
    "                   - unsupervised learning\n",
    "    \n",
    "                   - groups of the unlabeled dataset into differest classes\n",
    "        \n",
    "                   - it is an iterative algo that divides the unlabeled dataset\n",
    "                     into k different cluster in such a way that each of \n",
    "                     dataset belongs to only one group that has similar properties.\n",
    "                    \n",
    "                   - convient way to discover categories of groups of unlabeled dataset\n",
    "                     on its own without the need of any training.\n",
    "                    \n",
    "                   - it is centroid based algorithm, every cluster associated with their centroid.\n",
    "        \n",
    "                   - "
   ]
  }
 ],
 "metadata": {
  "kernelspec": {
   "display_name": "Python 3 (ipykernel)",
   "language": "python",
   "name": "python3"
  },
  "language_info": {
   "codemirror_mode": {
    "name": "ipython",
    "version": 3
   },
   "file_extension": ".py",
   "mimetype": "text/x-python",
   "name": "python",
   "nbconvert_exporter": "python",
   "pygments_lexer": "ipython3",
   "version": "3.11.5"
  }
 },
 "nbformat": 4,
 "nbformat_minor": 5
}
