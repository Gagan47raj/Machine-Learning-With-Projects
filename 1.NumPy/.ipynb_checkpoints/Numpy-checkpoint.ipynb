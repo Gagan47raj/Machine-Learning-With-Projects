{
 "cells": [
  {
   "cell_type": "code",
   "execution_count": 1,
   "id": "86a42a01",
   "metadata": {},
   "outputs": [],
   "source": [
    "import numpy as np"
   ]
  },
  {
   "cell_type": "code",
   "execution_count": 2,
   "id": "f8dc1c31",
   "metadata": {},
   "outputs": [
    {
     "name": "stdout",
     "output_type": "stream",
     "text": [
      "[2 4 6 8]\n",
      "<class 'numpy.ndarray'>\n"
     ]
    }
   ],
   "source": [
    "arr = np.array([2,4,6,8]) #Creating 1D array\n",
    "print(arr)\n",
    "\n",
    "print(type(arr))"
   ]
  },
  {
   "cell_type": "code",
   "execution_count": 3,
   "id": "c0326f7c",
   "metadata": {},
   "outputs": [
    {
     "name": "stdout",
     "output_type": "stream",
     "text": [
      "[1 2 3 4 5 6 7 8]\n",
      "<class 'numpy.ndarray'>\n"
     ]
    }
   ],
   "source": [
    "tpl = np.array((1,2,3,4,5,6,7,8))\n",
    "print(tpl)\n",
    "print(type(tpl))"
   ]
  },
  {
   "cell_type": "markdown",
   "id": "17b442b3",
   "metadata": {},
   "source": [
    "# Dimensions in array"
   ]
  },
  {
   "cell_type": "code",
   "execution_count": 4,
   "id": "1272bd6a",
   "metadata": {},
   "outputs": [
    {
     "name": "stdout",
     "output_type": "stream",
     "text": [
      "10\n",
      "<class 'numpy.ndarray'>\n",
      "0\n"
     ]
    }
   ],
   "source": [
    "arr = np.array(10)\n",
    "print(arr)\n",
    "print(type(arr))\n",
    "print(arr.ndim) #to check array dimensions"
   ]
  },
  {
   "cell_type": "markdown",
   "id": "323141ed",
   "metadata": {},
   "source": [
    "# 1D Array"
   ]
  },
  {
   "cell_type": "code",
   "execution_count": 5,
   "id": "db3b59f0",
   "metadata": {},
   "outputs": [
    {
     "name": "stdout",
     "output_type": "stream",
     "text": [
      "[1 2 3 4 5]\n",
      "1\n"
     ]
    }
   ],
   "source": [
    "arr = np.array([1,2,3,4,5])\n",
    "print(arr)\n",
    "print(arr.ndim)"
   ]
  },
  {
   "cell_type": "markdown",
   "id": "7fdcff27",
   "metadata": {},
   "source": [
    "# 2D Array"
   ]
  },
  {
   "cell_type": "code",
   "execution_count": 6,
   "id": "d4da4870",
   "metadata": {},
   "outputs": [
    {
     "name": "stdout",
     "output_type": "stream",
     "text": [
      "[[ 2  4  6  8]\n",
      " [ 3  6  9 12]]\n",
      "2\n"
     ]
    }
   ],
   "source": [
    "arr = np.array([[2,4,6,8],[3,6,9,12]])\n",
    "print(arr)\n",
    "print(arr.ndim)"
   ]
  },
  {
   "cell_type": "markdown",
   "id": "669edec7",
   "metadata": {},
   "source": [
    "# 3D Array"
   ]
  },
  {
   "cell_type": "code",
   "execution_count": 13,
   "id": "cbccab57",
   "metadata": {},
   "outputs": [
    {
     "name": "stdout",
     "output_type": "stream",
     "text": [
      "[[[ 1  2  3]\n",
      "  [ 4  5  6]]\n",
      "\n",
      " [[ 7  8  9]\n",
      "  [10 11 12]]]\n",
      "3\n"
     ]
    }
   ],
   "source": [
    "arr = np.array([[[1,2,3], [4,5,6]], [[7,8,9],[10,11,12]]])\n",
    "print(arr)\n",
    "print(arr.ndim)"
   ]
  },
  {
   "cell_type": "markdown",
   "id": "561d63a1",
   "metadata": {},
   "source": [
    "# Multidimention Arrays"
   ]
  },
  {
   "cell_type": "code",
   "execution_count": 11,
   "id": "457e30eb",
   "metadata": {},
   "outputs": [
    {
     "name": "stdout",
     "output_type": "stream",
     "text": [
      "[[[[2 4 6 8]]]]\n",
      "4\n"
     ]
    }
   ],
   "source": [
    "arr = np.array([2,4,6,8], ndmin = 4)\n",
    "print(arr)\n",
    "print(arr.ndim)"
   ]
  },
  {
   "cell_type": "markdown",
   "id": "0dba5f6b",
   "metadata": {},
   "source": [
    "# Numpy Array Indexing"
   ]
  },
  {
   "cell_type": "code",
   "execution_count": 12,
   "id": "deca656b",
   "metadata": {},
   "outputs": [
    {
     "name": "stdout",
     "output_type": "stream",
     "text": [
      "3\n"
     ]
    }
   ],
   "source": [
    "arr = np.array([1,2,3,4])\n",
    "print(arr[2])"
   ]
  },
  {
   "cell_type": "markdown",
   "id": "3ae455b6",
   "metadata": {},
   "source": [
    "# 2D Array Access"
   ]
  },
  {
   "cell_type": "code",
   "execution_count": 14,
   "id": "81f2bf23",
   "metadata": {},
   "outputs": [
    {
     "name": "stdout",
     "output_type": "stream",
     "text": [
      "4\n"
     ]
    }
   ],
   "source": [
    "arr = np.array([[1,2,3,4],[2,4,6,8]])\n",
    "print(arr[0,3])"
   ]
  },
  {
   "cell_type": "code",
   "execution_count": 15,
   "id": "91383564",
   "metadata": {},
   "outputs": [
    {
     "name": "stdout",
     "output_type": "stream",
     "text": [
      "8\n"
     ]
    }
   ],
   "source": [
    "print(arr[1,3])"
   ]
  },
  {
   "cell_type": "markdown",
   "id": "30df982d",
   "metadata": {},
   "source": [
    "# 3D Array Access"
   ]
  },
  {
   "cell_type": "code",
   "execution_count": 16,
   "id": "9c019c72",
   "metadata": {},
   "outputs": [
    {
     "name": "stdout",
     "output_type": "stream",
     "text": [
      "3 5 9 12\n"
     ]
    }
   ],
   "source": [
    "arr = np.array([[[1,2,3], [4,5,6]], [[7,8,9],[10,11,12]]])\n",
    "print(arr[0,0,2], arr[0,1,1], arr[1,0,2], arr[1,1,2])"
   ]
  },
  {
   "cell_type": "code",
   "execution_count": 17,
   "id": "09a20cca",
   "metadata": {},
   "outputs": [
    {
     "name": "stdout",
     "output_type": "stream",
     "text": [
      "29\n"
     ]
    }
   ],
   "source": [
    "print(arr[0,0,2] + arr[0,1,1] + arr[1,0,2] + arr[1,1,2])"
   ]
  },
  {
   "cell_type": "markdown",
   "id": "2802a002",
   "metadata": {},
   "source": [
    "# Slicing of NumPy Array"
   ]
  },
  {
   "cell_type": "code",
   "execution_count": 19,
   "id": "2933469e",
   "metadata": {},
   "outputs": [
    {
     "name": "stdout",
     "output_type": "stream",
     "text": [
      "[2 3 4 5]\n"
     ]
    }
   ],
   "source": [
    "arr = np.array([1,2,3,4,5,6,7,8])\n",
    "print(arr[1:5]) #range slice"
   ]
  },
  {
   "cell_type": "code",
   "execution_count": 21,
   "id": "96b4812e",
   "metadata": {},
   "outputs": [
    {
     "name": "stdout",
     "output_type": "stream",
     "text": [
      "[2 4 6 8]\n",
      "[1 3 5 7]\n"
     ]
    }
   ],
   "source": [
    "print(arr[1:8:2])\n",
    "print(arr[::2])"
   ]
  },
  {
   "cell_type": "markdown",
   "id": "ce9b7dd2",
   "metadata": {},
   "source": [
    "# 2D array Slicing"
   ]
  },
  {
   "cell_type": "code",
   "execution_count": 22,
   "id": "98587059",
   "metadata": {},
   "outputs": [
    {
     "name": "stdout",
     "output_type": "stream",
     "text": [
      "[2 4]\n"
     ]
    }
   ],
   "source": [
    "arr = np.array([[2,4,6,8],[3,6,9,12]])\n",
    "print(arr[0,0:2])"
   ]
  },
  {
   "cell_type": "markdown",
   "id": "6388b7f6",
   "metadata": {},
   "source": [
    "# Datatype of array"
   ]
  },
  {
   "cell_type": "code",
   "execution_count": 23,
   "id": "1ae901b2",
   "metadata": {},
   "outputs": [
    {
     "name": "stdout",
     "output_type": "stream",
     "text": [
      "int32\n"
     ]
    }
   ],
   "source": [
    "arr = np.array([1,2,3,4,5])\n",
    "print(arr.dtype)"
   ]
  },
  {
   "cell_type": "code",
   "execution_count": 24,
   "id": "273a5a60",
   "metadata": {},
   "outputs": [
    {
     "name": "stdout",
     "output_type": "stream",
     "text": [
      "float64\n"
     ]
    }
   ],
   "source": [
    "arr = np.array([1.2,2.5,3.8,4.0,5.1])\n",
    "print(arr.dtype)"
   ]
  },
  {
   "cell_type": "markdown",
   "id": "ac29d8aa",
   "metadata": {},
   "source": [
    "# Array with defined datatype"
   ]
  },
  {
   "cell_type": "code",
   "execution_count": 25,
   "id": "6dbc05ab",
   "metadata": {},
   "outputs": [
    {
     "name": "stdout",
     "output_type": "stream",
     "text": [
      "[b'1' b'2' b'3' b'4' b'5' b'6' b'7']\n",
      "|S1\n"
     ]
    }
   ],
   "source": [
    "arr = np.array([1,2,3,4,5,6,7], dtype='S')\n",
    "print(arr)\n",
    "print(arr.dtype)"
   ]
  },
  {
   "cell_type": "markdown",
   "id": "99e2c27f",
   "metadata": {},
   "source": [
    "# Numpy Array Shape"
   ]
  },
  {
   "cell_type": "code",
   "execution_count": 26,
   "id": "8c3b0efb",
   "metadata": {},
   "outputs": [
    {
     "name": "stdout",
     "output_type": "stream",
     "text": [
      "(2, 4)\n"
     ]
    }
   ],
   "source": [
    "arr = np.array([[1,2,3,4],[5,6,7,8]])\n",
    "print(arr.shape)"
   ]
  },
  {
   "cell_type": "code",
   "execution_count": 27,
   "id": "0f515e70",
   "metadata": {},
   "outputs": [
    {
     "name": "stdout",
     "output_type": "stream",
     "text": [
      "(1, 3, 4)\n"
     ]
    }
   ],
   "source": [
    "arr = np.array([[[1,2,3,4],[5,6,7,8],[9,10,11,12]]])\n",
    "print(arr.shape)"
   ]
  },
  {
   "cell_type": "markdown",
   "id": "4bc8bbcd",
   "metadata": {},
   "source": [
    "# Joining arrays"
   ]
  },
  {
   "cell_type": "code",
   "execution_count": 28,
   "id": "0820cc88",
   "metadata": {},
   "outputs": [
    {
     "name": "stdout",
     "output_type": "stream",
     "text": [
      "[1 2 3 4 5 6]\n"
     ]
    }
   ],
   "source": [
    "arr1 = np.array([1,2,3])\n",
    "arr2 = np.array([4,5,6])\n",
    "arr = np.concatenate((arr1,arr2))\n",
    "\n",
    "print(arr)"
   ]
  },
  {
   "cell_type": "code",
   "execution_count": 32,
   "id": "fffd9403",
   "metadata": {},
   "outputs": [
    {
     "name": "stdout",
     "output_type": "stream",
     "text": [
      "[[ 1  2  3]\n",
      " [ 4  5  6]\n",
      " [11 22 33]\n",
      " [ 7  8  9]]\n"
     ]
    }
   ],
   "source": [
    "arr1 = np.array([[1,2,3],[4,5,6]])\n",
    "arr2 = np.array([[11,22,33],[7,8,9]])\n",
    "\n",
    "arr = np.concatenate((arr1,arr2), axis = 0)\n",
    "print(arr)"
   ]
  },
  {
   "cell_type": "markdown",
   "id": "05fc0516",
   "metadata": {},
   "source": [
    "# Splitting numpy array"
   ]
  },
  {
   "cell_type": "code",
   "execution_count": 34,
   "id": "726c3b89",
   "metadata": {},
   "outputs": [
    {
     "name": "stdout",
     "output_type": "stream",
     "text": [
      "[array([1, 2, 3, 4]), array([5, 6, 7, 8])] \n",
      " [array([1, 2, 3]), array([4, 5, 6]), array([7, 8])] \n",
      " [array([1, 2]), array([3, 4]), array([5, 6]), array([7, 8])]\n"
     ]
    }
   ],
   "source": [
    "arr = np.array([1,2,3,4,5,6,7,8])\n",
    "split2 = np.array_split(arr,2)\n",
    "split3 = np.array_split(arr,3)\n",
    "split4 = np.array_split(arr,4)\n",
    "\n",
    "print(split2,\"\\n\",split3,\"\\n\",split4)"
   ]
  },
  {
   "cell_type": "markdown",
   "id": "806f54e2",
   "metadata": {},
   "source": [
    "# Multidimention array to 1D array"
   ]
  },
  {
   "cell_type": "code",
   "execution_count": 35,
   "id": "822a6c07",
   "metadata": {},
   "outputs": [
    {
     "name": "stdout",
     "output_type": "stream",
     "text": [
      "[ 1  2  3  4  5  6  7  8  9 10 11 12]\n"
     ]
    }
   ],
   "source": [
    "arr = np.array([[[1,2,3], [4,5,6]], [[7,8,9],[10,11,12]]])\n",
    "arr1 = arr.ravel() #to convert multidimention array to 1D array\n",
    "print(arr1)"
   ]
  },
  {
   "cell_type": "markdown",
   "id": "207dcb70",
   "metadata": {},
   "source": [
    "# Non repeating Values"
   ]
  },
  {
   "cell_type": "code",
   "execution_count": 37,
   "id": "8468da61",
   "metadata": {},
   "outputs": [
    {
     "name": "stdout",
     "output_type": "stream",
     "text": [
      "[  1   2   3   4   5  12  23  54  67 334]\n"
     ]
    }
   ],
   "source": [
    "arr = np.array([1,23,4,2,3,1,67,54,334,12,1,2,4,5,3,2,1])\n",
    "uniq = np.unique(arr)\n",
    "print(uniq)"
   ]
  },
  {
   "cell_type": "code",
   "execution_count": null,
   "id": "0c549e83",
   "metadata": {},
   "outputs": [],
   "source": []
  }
 ],
 "metadata": {
  "kernelspec": {
   "display_name": "Python 3 (ipykernel)",
   "language": "python",
   "name": "python3"
  },
  "language_info": {
   "codemirror_mode": {
    "name": "ipython",
    "version": 3
   },
   "file_extension": ".py",
   "mimetype": "text/x-python",
   "name": "python",
   "nbconvert_exporter": "python",
   "pygments_lexer": "ipython3",
   "version": "3.11.5"
  }
 },
 "nbformat": 4,
 "nbformat_minor": 5
}
