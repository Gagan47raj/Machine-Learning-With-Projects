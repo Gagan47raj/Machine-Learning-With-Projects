{
 "cells": [
  {
   "cell_type": "code",
   "execution_count": 1,
   "id": "550fc329",
   "metadata": {},
   "outputs": [],
   "source": [
    "import numpy as np"
   ]
  },
  {
   "cell_type": "code",
   "execution_count": 2,
   "id": "c8dda68e",
   "metadata": {},
   "outputs": [
    {
     "name": "stdout",
     "output_type": "stream",
     "text": [
      "[2 4 6 8]\n",
      "<class 'numpy.ndarray'>\n"
     ]
    }
   ],
   "source": [
    "arr = np.array([2,4,6,8]) #Creating 1D array\n",
    "print(arr)\n",
    "\n",
    "print(type(arr))"
   ]
  },
  {
   "cell_type": "code",
   "execution_count": 3,
   "id": "4e475282",
   "metadata": {},
   "outputs": [
    {
     "name": "stdout",
     "output_type": "stream",
     "text": [
      "[1 2 3 4 5 6 7 8]\n",
      "<class 'numpy.ndarray'>\n"
     ]
    }
   ],
   "source": [
    "tpl = np.array((1,2,3,4,5,6,7,8))\n",
    "print(tpl)\n",
    "print(type(tpl))"
   ]
  },
  {
   "cell_type": "markdown",
   "id": "9b50ad41",
   "metadata": {},
   "source": [
    "# Dimensions in array"
   ]
  },
  {
   "cell_type": "code",
   "execution_count": 4,
   "id": "bf8cbe10",
   "metadata": {},
   "outputs": [
    {
     "name": "stdout",
     "output_type": "stream",
     "text": [
      "10\n",
      "<class 'numpy.ndarray'>\n",
      "0\n"
     ]
    }
   ],
   "source": [
    "arr = np.array(10)\n",
    "print(arr)\n",
    "print(type(arr))\n",
    "print(arr.ndim) #to check array dimensions"
   ]
  },
  {
   "cell_type": "markdown",
   "id": "238754ae",
   "metadata": {},
   "source": [
    "# 1D Array"
   ]
  },
  {
   "cell_type": "code",
   "execution_count": 5,
   "id": "24c3c783",
   "metadata": {},
   "outputs": [
    {
     "name": "stdout",
     "output_type": "stream",
     "text": [
      "[1 2 3 4 5]\n",
      "1\n"
     ]
    }
   ],
   "source": [
    "arr = np.array([1,2,3,4,5])\n",
    "print(arr)\n",
    "print(arr.ndim)"
   ]
  },
  {
   "cell_type": "markdown",
   "id": "34248f8f",
   "metadata": {},
   "source": [
    "# 2D Array"
   ]
  },
  {
   "cell_type": "code",
   "execution_count": 6,
   "id": "9606594d",
   "metadata": {},
   "outputs": [
    {
     "name": "stdout",
     "output_type": "stream",
     "text": [
      "[[ 2  4  6  8]\n",
      " [ 3  6  9 12]]\n",
      "2\n"
     ]
    }
   ],
   "source": [
    "arr = np.array([[2,4,6,8],[3,6,9,12]])\n",
    "print(arr)\n",
    "print(arr.ndim)"
   ]
  },
  {
   "cell_type": "markdown",
   "id": "05423203",
   "metadata": {},
   "source": [
    "# 3D Array"
   ]
  },
  {
   "cell_type": "code",
   "execution_count": 13,
   "id": "66176aa8",
   "metadata": {},
   "outputs": [
    {
     "name": "stdout",
     "output_type": "stream",
     "text": [
      "[[[ 1  2  3]\n",
      "  [ 4  5  6]]\n",
      "\n",
      " [[ 7  8  9]\n",
      "  [10 11 12]]]\n",
      "3\n"
     ]
    }
   ],
   "source": [
    "arr = np.array([[[1,2,3], [4,5,6]], [[7,8,9],[10,11,12]]])\n",
    "print(arr)\n",
    "print(arr.ndim)"
   ]
  },
  {
   "cell_type": "markdown",
   "id": "b78a24df",
   "metadata": {},
   "source": [
    "# Multidimention Arrays"
   ]
  },
  {
   "cell_type": "code",
   "execution_count": 11,
   "id": "97555ce7",
   "metadata": {},
   "outputs": [
    {
     "name": "stdout",
     "output_type": "stream",
     "text": [
      "[[[[2 4 6 8]]]]\n",
      "4\n"
     ]
    }
   ],
   "source": [
    "arr = np.array([2,4,6,8], ndmin = 4)\n",
    "print(arr)\n",
    "print(arr.ndim)"
   ]
  },
  {
   "cell_type": "markdown",
   "id": "a6d086aa",
   "metadata": {},
   "source": [
    "# Numpy Array Indexing"
   ]
  },
  {
   "cell_type": "code",
   "execution_count": 12,
   "id": "b4709529",
   "metadata": {},
   "outputs": [
    {
     "name": "stdout",
     "output_type": "stream",
     "text": [
      "3\n"
     ]
    }
   ],
   "source": [
    "arr = np.array([1,2,3,4])\n",
    "print(arr[2])"
   ]
  },
  {
   "cell_type": "markdown",
   "id": "a0c806b3",
   "metadata": {},
   "source": [
    "# 2D Array Access"
   ]
  },
  {
   "cell_type": "code",
   "execution_count": 14,
   "id": "4e8e09cb",
   "metadata": {},
   "outputs": [
    {
     "name": "stdout",
     "output_type": "stream",
     "text": [
      "4\n"
     ]
    }
   ],
   "source": [
    "arr = np.array([[1,2,3,4],[2,4,6,8]])\n",
    "print(arr[0,3])"
   ]
  },
  {
   "cell_type": "code",
   "execution_count": 15,
   "id": "1e657c4d",
   "metadata": {},
   "outputs": [
    {
     "name": "stdout",
     "output_type": "stream",
     "text": [
      "8\n"
     ]
    }
   ],
   "source": [
    "print(arr[1,3])"
   ]
  },
  {
   "cell_type": "markdown",
   "id": "0ff52753",
   "metadata": {},
   "source": [
    "# 3D Array Access"
   ]
  },
  {
   "cell_type": "code",
   "execution_count": 16,
   "id": "afe3482e",
   "metadata": {},
   "outputs": [
    {
     "name": "stdout",
     "output_type": "stream",
     "text": [
      "3 5 9 12\n"
     ]
    }
   ],
   "source": [
    "arr = np.array([[[1,2,3], [4,5,6]], [[7,8,9],[10,11,12]]])\n",
    "print(arr[0,0,2], arr[0,1,1], arr[1,0,2], arr[1,1,2])"
   ]
  },
  {
   "cell_type": "code",
   "execution_count": 17,
   "id": "cc6a3dd8",
   "metadata": {},
   "outputs": [
    {
     "name": "stdout",
     "output_type": "stream",
     "text": [
      "29\n"
     ]
    }
   ],
   "source": [
    "print(arr[0,0,2] + arr[0,1,1] + arr[1,0,2] + arr[1,1,2])"
   ]
  },
  {
   "cell_type": "markdown",
   "id": "a68c7660",
   "metadata": {},
   "source": [
    "# Slicing of NumPy Array"
   ]
  },
  {
   "cell_type": "code",
   "execution_count": 19,
   "id": "242c769e",
   "metadata": {},
   "outputs": [
    {
     "name": "stdout",
     "output_type": "stream",
     "text": [
      "[2 3 4 5]\n"
     ]
    }
   ],
   "source": [
    "arr = np.array([1,2,3,4,5,6,7,8])\n",
    "print(arr[1:5]) #range slice"
   ]
  },
  {
   "cell_type": "code",
   "execution_count": 21,
   "id": "5fcf3bb2",
   "metadata": {},
   "outputs": [
    {
     "name": "stdout",
     "output_type": "stream",
     "text": [
      "[2 4 6 8]\n",
      "[1 3 5 7]\n"
     ]
    }
   ],
   "source": [
    "print(arr[1:8:2])\n",
    "print(arr[::2])"
   ]
  },
  {
   "cell_type": "markdown",
   "id": "48026459",
   "metadata": {},
   "source": [
    "# 2D array Slicing"
   ]
  },
  {
   "cell_type": "code",
   "execution_count": 22,
   "id": "1b606c8c",
   "metadata": {},
   "outputs": [
    {
     "name": "stdout",
     "output_type": "stream",
     "text": [
      "[2 4]\n"
     ]
    }
   ],
   "source": [
    "arr = np.array([[2,4,6,8],[3,6,9,12]])\n",
    "print(arr[0,0:2])"
   ]
  },
  {
   "cell_type": "markdown",
   "id": "bc0f86a3",
   "metadata": {},
   "source": [
    "# Datatype of array"
   ]
  },
  {
   "cell_type": "code",
   "execution_count": 23,
   "id": "8553bb2d",
   "metadata": {},
   "outputs": [
    {
     "name": "stdout",
     "output_type": "stream",
     "text": [
      "int32\n"
     ]
    }
   ],
   "source": [
    "arr = np.array([1,2,3,4,5])\n",
    "print(arr.dtype)"
   ]
  },
  {
   "cell_type": "code",
   "execution_count": 24,
   "id": "e57bf23e",
   "metadata": {},
   "outputs": [
    {
     "name": "stdout",
     "output_type": "stream",
     "text": [
      "float64\n"
     ]
    }
   ],
   "source": [
    "arr = np.array([1.2,2.5,3.8,4.0,5.1])\n",
    "print(arr.dtype)"
   ]
  },
  {
   "cell_type": "markdown",
   "id": "4a1b601b",
   "metadata": {},
   "source": [
    "# Array with defined datatype"
   ]
  },
  {
   "cell_type": "code",
   "execution_count": 25,
   "id": "db21902c",
   "metadata": {},
   "outputs": [
    {
     "name": "stdout",
     "output_type": "stream",
     "text": [
      "[b'1' b'2' b'3' b'4' b'5' b'6' b'7']\n",
      "|S1\n"
     ]
    }
   ],
   "source": [
    "arr = np.array([1,2,3,4,5,6,7], dtype='S')\n",
    "print(arr)\n",
    "print(arr.dtype)"
   ]
  },
  {
   "cell_type": "markdown",
   "id": "5b790a0f",
   "metadata": {},
   "source": [
    "# Numpy Array Shape"
   ]
  },
  {
   "cell_type": "code",
   "execution_count": 26,
   "id": "f162e247",
   "metadata": {},
   "outputs": [
    {
     "name": "stdout",
     "output_type": "stream",
     "text": [
      "(2, 4)\n"
     ]
    }
   ],
   "source": [
    "arr = np.array([[1,2,3,4],[5,6,7,8]])\n",
    "print(arr.shape)"
   ]
  },
  {
   "cell_type": "code",
   "execution_count": 27,
   "id": "fbf194d8",
   "metadata": {},
   "outputs": [
    {
     "name": "stdout",
     "output_type": "stream",
     "text": [
      "(1, 3, 4)\n"
     ]
    }
   ],
   "source": [
    "arr = np.array([[[1,2,3,4],[5,6,7,8],[9,10,11,12]]])\n",
    "print(arr.shape)"
   ]
  },
  {
   "cell_type": "markdown",
   "id": "3d3f251e",
   "metadata": {},
   "source": [
    "# Joining arrays"
   ]
  },
  {
   "cell_type": "code",
   "execution_count": null,
   "id": "8a67dcce",
   "metadata": {},
   "outputs": [],
   "source": [
    "arr1 = np.array([1,2,3])\n",
    "arr2 = np.array([4,5,6])\n",
    "arr = np.concatenate((arr1,arr2))\n",
    "\n",
    "print(arr)"
   ]
  }
 ],
 "metadata": {
  "kernelspec": {
   "display_name": "Python 3 (ipykernel)",
   "language": "python",
   "name": "python3"
  },
  "language_info": {
   "codemirror_mode": {
    "name": "ipython",
    "version": 3
   },
   "file_extension": ".py",
   "mimetype": "text/x-python",
   "name": "python",
   "nbconvert_exporter": "python",
   "pygments_lexer": "ipython3",
   "version": "3.11.5"
  }
 },
 "nbformat": 4,
 "nbformat_minor": 5
}
