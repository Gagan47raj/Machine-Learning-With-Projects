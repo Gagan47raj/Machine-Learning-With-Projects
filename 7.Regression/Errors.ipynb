{
 "cells": [
  {
   "cell_type": "code",
   "execution_count": null,
   "id": "72d026d7",
   "metadata": {},
   "outputs": [],
   "source": [
    "        types of Error : Mean Square Error\n",
    "                         Mean Absolute Error\n",
    "                         Root Mean Square Error\n",
    "                         \n",
    "        1) mean square error : average of squared differece b/w actual values and predicted value\n",
    "            usage - regression analysis\n",
    "            practical application : pridicting prices like house, stock etc\n",
    "                \n",
    "        2) Mean absolute error : average of absolute differece b/w actual values and predicted values\n",
    "            usage - regression analysis\n",
    "            pratical : continous value like temperature, weather etc\n",
    "                \n",
    "        3) root mean square error : square root of mean square error\n",
    "            usage - regression\n",
    "            practical - when pridicting actual values i.e prices\n",
    "            \n",
    "        "
   ]
  }
 ],
 "metadata": {
  "kernelspec": {
   "display_name": "Python 3 (ipykernel)",
   "language": "python",
   "name": "python3"
  },
  "language_info": {
   "codemirror_mode": {
    "name": "ipython",
    "version": 3
   },
   "file_extension": ".py",
   "mimetype": "text/x-python",
   "name": "python",
   "nbconvert_exporter": "python",
   "pygments_lexer": "ipython3",
   "version": "3.11.5"
  }
 },
 "nbformat": 4,
 "nbformat_minor": 5
}
