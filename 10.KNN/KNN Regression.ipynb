{
 "cells": [
  {
   "cell_type": "code",
   "execution_count": null,
   "id": "7a87c49e",
   "metadata": {},
   "outputs": [],
   "source": [
    "# KNN K - nearest neighbour\n",
    "      - supervised learning :  classification and regression\n",
    "      - mainly used for classification problem\n",
    "    \n",
    "      - assumes the similarity b/w the new data input/ dataset and available\n",
    "        datased and put that new dataset into the category that most similar to\n",
    "        available dataset.\n",
    "      \n",
    "      - Intance based learning : lazy learning algorithm \n",
    "            it does not learn from training set immediately instead it store \n",
    "            the dataset and at the time of classification it perform action on dataset.\n",
    "      \n",
    "      - selecting appropriate distance metrics depends on the characterstics of dataset.\n",
    "        \n",
    "        euclidean distance = sqrt((x2 - x1)^2 + (y2 - y1)^2)\n",
    "        manhanttan  distance = mod(x2 - x1) + mod(y2 - y1)"
   ]
  }
 ],
 "metadata": {
  "kernelspec": {
   "display_name": "Python 3 (ipykernel)",
   "language": "python",
   "name": "python3"
  },
  "language_info": {
   "codemirror_mode": {
    "name": "ipython",
    "version": 3
   },
   "file_extension": ".py",
   "mimetype": "text/x-python",
   "name": "python",
   "nbconvert_exporter": "python",
   "pygments_lexer": "ipython3",
   "version": "3.11.5"
  }
 },
 "nbformat": 4,
 "nbformat_minor": 5
}
