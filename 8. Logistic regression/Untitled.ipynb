{
 "cells": [
  {
   "cell_type": "code",
   "execution_count": null,
   "id": "5f113bf7",
   "metadata": {},
   "outputs": [],
   "source": [
    "Logistic Regression : - type of supervised learning\n",
    "                      - predicts output of categorial dependent variable\n",
    "                      - 0 or 1, yes or no, fail or pass\n",
    "                      - used to solve classification problem\n",
    "            \n",
    "        types - binomial : yes or no, true or false, pass or fail\n",
    "              - multinomial : more than two result ex : image recognition \n",
    "                    i.e table,human,car\n",
    "              - ordinal : more than two, i.e low mid high"
   ]
  }
 ],
 "metadata": {
  "kernelspec": {
   "display_name": "Python 3 (ipykernel)",
   "language": "python",
   "name": "python3"
  },
  "language_info": {
   "codemirror_mode": {
    "name": "ipython",
    "version": 3
   },
   "file_extension": ".py",
   "mimetype": "text/x-python",
   "name": "python",
   "nbconvert_exporter": "python",
   "pygments_lexer": "ipython3",
   "version": "3.11.5"
  }
 },
 "nbformat": 4,
 "nbformat_minor": 5
}
