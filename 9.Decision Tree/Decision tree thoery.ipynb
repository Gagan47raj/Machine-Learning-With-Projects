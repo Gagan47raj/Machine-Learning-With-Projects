{
 "cells": [
  {
   "cell_type": "code",
   "execution_count": null,
   "id": "67751fc7",
   "metadata": {},
   "outputs": [],
   "source": [
    "#Decision tree\n",
    "            - type of supervised learning\n",
    "            - classification and regression\n",
    "        \n",
    "            - internal nodes : features of dataset\n",
    "            - branches : decision rules\n",
    "            - leaf : end result or outcome\n",
    "            \n",
    "            - a graphical representation of getting all possible solution\n",
    "              to a problem based on given condition.\n",
    "            - CART algorithm use for decision tree\n",
    "            - CART : Classification and regression tree\n",
    "            \n",
    "            - mimic human thinking ability while making a decision\n",
    "            - easy to understand : tree like structure\n",
    "                \n",
    "        Terms : root node : where tree starts\n",
    "                leaf node : end result\n",
    "                splitting : process of dividing the decision node into sub nodes.\n",
    "                            (increasing of splitting increase complexity)\n",
    "                pruning : removing of unwanted branches\n",
    "\n",
    "Working procedure : \n",
    "    step 1 : begin with root node i.e R which contains the complete dataset\n",
    "    step 2 : find the best attribute or features using ASM(Attribute selection measure)\n",
    "    step 3 : divide R into subsets that contain possible values for best features.\n",
    "    step 4 : generate decision tree\n",
    "        \n",
    "Attribute selection measure : \n",
    "    Information gain : Entropy(R) -[(weight avg) * (entropy features)]\n",
    "        entropy : metric to measure the impurity in a given attribute. it specifies randomness in data\n",
    "            entropy(R) = -P(yes)log2 P(yes) - P(no)log2P(no)\n",
    "            impurity : presence of mixed classes \n",
    "    \n",
    "    Gini impurity : measure the degree of impurity\n",
    "                  : value ranges from 0 to 1 : 0 : pure 1 : impure(max impurity)\n",
    "                  : low gini index preferred instead high gini index\n",
    "            "
   ]
  }
 ],
 "metadata": {
  "kernelspec": {
   "display_name": "Python 3 (ipykernel)",
   "language": "python",
   "name": "python3"
  },
  "language_info": {
   "codemirror_mode": {
    "name": "ipython",
    "version": 3
   },
   "file_extension": ".py",
   "mimetype": "text/x-python",
   "name": "python",
   "nbconvert_exporter": "python",
   "pygments_lexer": "ipython3",
   "version": "3.11.5"
  }
 },
 "nbformat": 4,
 "nbformat_minor": 5
}
