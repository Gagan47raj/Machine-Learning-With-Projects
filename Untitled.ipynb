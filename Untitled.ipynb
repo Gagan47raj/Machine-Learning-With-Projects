{
 "cells": [
  {
   "cell_type": "code",
   "execution_count": null,
   "id": "86f22218",
   "metadata": {},
   "outputs": [],
   "source": [
    "Feature Engineering\n",
    "Feature :  all independent attributes on which analysis is to be done\n",
    "    \n",
    "Feature engineering : process to create feature/extract the features from \n",
    "                      existing features by domain knowledge to increase \n",
    "                      performance of model.\n",
    "            \n",
    "Train Test Split data : it divides dataset into two subset\n",
    "                       1) train \n",
    "                       2) test\n",
    "                       \n",
    "                       Dataset : by 100\n",
    "                                 train : 30%\n",
    "                                 test : 70%\n",
    "                                        \n",
    "                                train : 50% \n",
    "                                test : 50%\n",
    "                    \n",
    "                    Sklearn : 1) train test split dataset\n",
    "                              2) machine learning algorithms\n",
    "                            \n",
    "\n",
    "Regression : - it is type of supervised learning\n",
    "             - its goal is to predict continous numerical value based on input dataset\n",
    "             - it is statical used to indentity relationship b/w independent and dependent variable\n",
    "             - how one variable changes another variable\n",
    "                \n",
    "             Dependent variable (predict) : dependents on independent\n",
    "             Independent variable (that predicts) : having influence on dependent variable\n",
    "            \n",
    "             Regression - Linear regression and logistic regression\n",
    "                \n",
    "                          1. linear regression - single variable and multivariable\n",
    "                                               - used to predictive analysis\n",
    "                                               - makes prediction on continous value\n",
    "                                               - ex : age, date, weather, sales etc\n",
    "                        \n",
    "                             i) single variable (simple linear regression)\n",
    "                                y = mx + c\n",
    "                                y : dependent\n",
    "                                m : slope\n",
    "                                x : independent\n",
    "                                c : intercept\n",
    "                    \n",
    "\n",
    "                             "
   ]
  }
 ],
 "metadata": {
  "kernelspec": {
   "display_name": "Python 3 (ipykernel)",
   "language": "python",
   "name": "python3"
  },
  "language_info": {
   "codemirror_mode": {
    "name": "ipython",
    "version": 3
   },
   "file_extension": ".py",
   "mimetype": "text/x-python",
   "name": "python",
   "nbconvert_exporter": "python",
   "pygments_lexer": "ipython3",
   "version": "3.11.5"
  }
 },
 "nbformat": 4,
 "nbformat_minor": 5
}
