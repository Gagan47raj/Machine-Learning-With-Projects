{
 "cells": [
  {
   "cell_type": "code",
   "execution_count": null,
   "id": "5bb8137e",
   "metadata": {},
   "outputs": [],
   "source": [
    "# Random forest : \n",
    "                : classification and regression\n",
    "                \n",
    "                : collection multiple decision tree\n",
    "                \n",
    "                : process of combining multiple classifiers to solve a complex problem and to improve\n",
    "                  the performance of decision tree\n",
    "                \n",
    "                : it contains number of decision tree on various subset of given dataset\n",
    "                  and takes the average to improve the predictive accuracy.\n",
    "                \n",
    "            Q : why random forest if there is decision tree ?\n",
    "                \n",
    "            A  : - it takes less training time as compared to other algorithms\n",
    "                \n",
    "                 - predict o/p with high accuracy, even for the large dataset\n",
    "                    \n",
    "                 - also maintain accuracy when a large portion of data is missing\n",
    "            \n",
    "        application : Banking => identification of loan\n",
    "                      Medicine => diease trends and risk of that diease\n",
    "                      Marketing => marketing trends\n",
    "                "
   ]
  }
 ],
 "metadata": {
  "kernelspec": {
   "display_name": "Python 3 (ipykernel)",
   "language": "python",
   "name": "python3"
  },
  "language_info": {
   "codemirror_mode": {
    "name": "ipython",
    "version": 3
   },
   "file_extension": ".py",
   "mimetype": "text/x-python",
   "name": "python",
   "nbconvert_exporter": "python",
   "pygments_lexer": "ipython3",
   "version": "3.11.5"
  }
 },
 "nbformat": 4,
 "nbformat_minor": 5
}
